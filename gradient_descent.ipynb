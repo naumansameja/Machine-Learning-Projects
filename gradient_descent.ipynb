{
 "cells": [
  {
   "cell_type": "code",
   "execution_count": 1,
   "metadata": {},
   "outputs": [],
   "source": [
    "import numpy as np\n",
    "import pandas as pd\n",
    "import matplotlib.pyplot as plt\n",
    "import random"
   ]
  },
  {
   "cell_type": "code",
   "execution_count": null,
   "metadata": {},
   "outputs": [],
   "source": []
  },
  {
   "cell_type": "code",
   "execution_count": 2,
   "metadata": {},
   "outputs": [],
   "source": [
    "x_train = np.array([1.0, 2.0])           #(size in 1000 square feet)\n",
    "y_train = np.array([300.0, 500.0]) \n",
    "w = 0\n",
    "b = 0\n",
    " "
   ]
  },
  {
   "cell_type": "code",
   "execution_count": 3,
   "metadata": {},
   "outputs": [
    {
     "data": {
      "text/plain": [
       "[0.0, 0.0]"
      ]
     },
     "execution_count": 3,
     "metadata": {},
     "output_type": "execute_result"
    }
   ],
   "source": [
    "def predict_price(x_train, w, b):\n",
    "    results = [0]* len(x_train)\n",
    "    for i in range(len(x_train)):\n",
    "        results[i] = x_train[i] * w + b\n",
    "\n",
    "    return results\n",
    "\n",
    "results = predict_price(x_train, w, b)\n",
    "results"
   ]
  },
  {
   "cell_type": "code",
   "execution_count": 4,
   "metadata": {},
   "outputs": [
    {
     "data": {
      "text/plain": [
       "3125.0"
      ]
     },
     "execution_count": 4,
     "metadata": {},
     "output_type": "execute_result"
    }
   ],
   "source": [
    "def compute_cost(x, y, w, b):\n",
    "    cost = 0\n",
    "    for i in range(len(x)):\n",
    "        predict = w*x[i] + b\n",
    "        cost += (predict - y[i])**2\n",
    "    cost /= len(x)\n",
    "    cost /= 2\n",
    "    return cost\n",
    "\n",
    "cost = compute_cost(x_train, y_train, 150, 100)\n",
    "cost\n"
   ]
  },
  {
   "cell_type": "code",
   "execution_count": 5,
   "metadata": {},
   "outputs": [
    {
     "name": "stdout",
     "output_type": "stream",
     "text": [
      "3125.0\n"
     ]
    }
   ],
   "source": [
    "print(compute_cost(x_train, y_train, 150, 100))"
   ]
  },
  {
   "cell_type": "code",
   "execution_count": 6,
   "metadata": {},
   "outputs": [],
   "source": [
    "def gradient_descent(x,y,a,w,b):\n",
    "    new_w = 0\n",
    "    dj_dw = 0\n",
    "    dj_db = 0\n",
    "    for i in range(len(x)):\n",
    "        cost = (x[i]*w + b) - y[i]\n",
    "        dj_dw += (cost * x[i])\n",
    "        dj_db += cost\n",
    "    new_w = w -  (a*(dj_dw / len(x)))\n",
    "    new_b = b - (a*(dj_db / len(x)))\n",
    "    return new_w, new_b\n",
    "\n",
    "\n"
   ]
  },
  {
   "cell_type": "code",
   "execution_count": 7,
   "metadata": {},
   "outputs": [
    {
     "name": "stdout",
     "output_type": "stream",
     "text": [
      "3.25\n"
     ]
    }
   ],
   "source": [
    "print(0.01 * (650 / 2))"
   ]
  },
  {
   "cell_type": "code",
   "execution_count": 8,
   "metadata": {},
   "outputs": [
    {
     "name": "stdout",
     "output_type": "stream",
     "text": [
      "85000.0\n",
      "[1. 2.] [300. 500.]\n"
     ]
    }
   ],
   "source": [
    "print(compute_cost(x_train, y_train, 0, 0))\n",
    "print(x_train, y_train)"
   ]
  },
  {
   "cell_type": "code",
   "execution_count": 9,
   "metadata": {},
   "outputs": [
    {
     "name": "stdout",
     "output_type": "stream",
     "text": [
      "199.99285075131766 100.011567727362\n",
      "6.745014662580395e-06\n"
     ]
    }
   ],
   "source": [
    "\n",
    "for i in range(10000):\n",
    "    w,b = gradient_descent(x_train,y_train, 1.0e-2, w, b)\n",
    "    loss = compute_cost(x_train, y_train, w, b)\n",
    "\n",
    "print(w, b)\n",
    "print(loss)"
   ]
  },
  {
   "cell_type": "code",
   "execution_count": 10,
   "metadata": {},
   "outputs": [
    {
     "name": "stdout",
     "output_type": "stream",
     "text": [
      "199.99285075131766 100.011567727362\n",
      "6.745014662580395e-06\n"
     ]
    }
   ],
   "source": [
    "print(w,b)\n",
    "print(compute_cost(x_train, y_train, w, b))"
   ]
  },
  {
   "cell_type": "code",
   "execution_count": null,
   "metadata": {},
   "outputs": [],
   "source": []
  }
 ],
 "metadata": {
  "kernelspec": {
   "display_name": "Python 3",
   "language": "python",
   "name": "python3"
  },
  "language_info": {
   "codemirror_mode": {
    "name": "ipython",
    "version": 3
   },
   "file_extension": ".py",
   "mimetype": "text/x-python",
   "name": "python",
   "nbconvert_exporter": "python",
   "pygments_lexer": "ipython3",
   "version": "3.10.12"
  }
 },
 "nbformat": 4,
 "nbformat_minor": 2
}
