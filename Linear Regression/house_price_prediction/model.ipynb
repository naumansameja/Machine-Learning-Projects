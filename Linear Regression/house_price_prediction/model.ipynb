{
 "cells": [
  {
   "cell_type": "code",
   "execution_count": 56,
   "metadata": {},
   "outputs": [],
   "source": [
    "import numpy as np\n",
    "import pandas as pd\n",
    "import matplotlib.pyplot as plt\n",
    "import random"
   ]
  },
  {
   "cell_type": "code",
   "execution_count": 57,
   "metadata": {},
   "outputs": [
    {
     "data": {
      "text/plain": [
       "(array([2600, 3000, 3200, 3600, 4000]),\n",
       " array([550000, 565000, 610000, 680000, 725000]))"
      ]
     },
     "execution_count": 57,
     "metadata": {},
     "output_type": "execute_result"
    }
   ],
   "source": [
    "data = pd.read_csv('dataset.csv')\n",
    "x_train = np.array(data['area'])\n",
    "y_train = np.array(data['price'])\n",
    "x_train , y_train "
   ]
  },
  {
   "cell_type": "code",
   "execution_count": 58,
   "metadata": {},
   "outputs": [
    {
     "name": "stdout",
     "output_type": "stream",
     "text": [
      "62667037.30304838\n"
     ]
    }
   ],
   "source": [
    "x_mean = np.mean(x_train)\n",
    "x_std = np.std(x_train)\n",
    "y_mean = np.mean(y_train)\n",
    "y_std = np.std(y_train)\n",
    "print(100 * y_mean + y_std)\n",
    "\n",
    "x_train = (x_train - x_mean)/x_std\n",
    "y_train = (y_train - y_mean)/y_std"
   ]
  },
  {
   "cell_type": "code",
   "execution_count": 59,
   "metadata": {},
   "outputs": [
    {
     "data": {
      "text/plain": [
       "(array([-1.40693001, -0.57932412, -0.16552118,  0.66208471,  1.4896906 ]),\n",
       " array([-1.13369716, -0.90994114, -0.23867309,  0.80552167,  1.47678972]))"
      ]
     },
     "execution_count": 59,
     "metadata": {},
     "output_type": "execute_result"
    }
   ],
   "source": [
    "x_train, y_train\n"
   ]
  },
  {
   "cell_type": "code",
   "execution_count": 60,
   "metadata": {},
   "outputs": [],
   "source": [
    "w , b = 0, 0"
   ]
  },
  {
   "cell_type": "code",
   "execution_count": 61,
   "metadata": {},
   "outputs": [
    {
     "data": {
      "text/plain": [
       "[0.0, 0.0, 0.0, 0.0, 0.0]"
      ]
     },
     "execution_count": 61,
     "metadata": {},
     "output_type": "execute_result"
    }
   ],
   "source": [
    "def predict_price(x_train, w, b):\n",
    "    results = [0]* len(x_train)\n",
    "    for i in range(len(x_train)):\n",
    "        results[i] = x_train[i] * w + b\n",
    "\n",
    "    return results\n",
    "\n",
    "results = predict_price(x_train, w, b)\n",
    "results"
   ]
  },
  {
   "cell_type": "code",
   "execution_count": 62,
   "metadata": {},
   "outputs": [
    {
     "name": "stdout",
     "output_type": "stream",
     "text": [
      "10\n"
     ]
    }
   ],
   "source": [
    "x = np.array(10)\n",
    "print(x)"
   ]
  },
  {
   "cell_type": "code",
   "execution_count": 63,
   "metadata": {},
   "outputs": [
    {
     "name": "stdout",
     "output_type": "stream",
     "text": [
      "0.5\n"
     ]
    }
   ],
   "source": [
    "def compute_cost(x, y, w, b):\n",
    "    cost = 0\n",
    "    for i in range(len(x)):\n",
    "        predict = w*x[i] + b\n",
    "        a = y[i]\n",
    "        cost += (predict - y[i])**2\n",
    "    cost /= len(x)\n",
    "    cost /= 2\n",
    "    return cost\n",
    "\n",
    "print(compute_cost(x_train, y_train , w , b))"
   ]
  },
  {
   "cell_type": "code",
   "execution_count": 64,
   "metadata": {},
   "outputs": [],
   "source": [
    "def gradient_descent(x,y,a,w,b):\n",
    "    new_w = 0\n",
    "    dj_dw = 0\n",
    "    dj_db = 0\n",
    "    for i in range(len(x)):\n",
    "        cost = (x[i]*w + b) - y[i]\n",
    "        dj_dw += (cost * x[i])\n",
    "        dj_db += cost\n",
    "    new_w = w -  (a*(dj_dw / len(x)))\n",
    "    new_b = b - (a*(dj_db / len(x)))\n",
    "    return new_w, new_b\n"
   ]
  },
  {
   "cell_type": "code",
   "execution_count": 65,
   "metadata": {},
   "outputs": [],
   "source": [
    "for i in range(10000):\n",
    "    w, b = gradient_descent(x_train, y_train, 1, w, b)\n",
    "\n"
   ]
  },
  {
   "cell_type": "code",
   "execution_count": 66,
   "metadata": {},
   "outputs": [
    {
     "data": {
      "text/plain": [
       "(0.9789944401374039, 6.106226635439242e-17)"
      ]
     },
     "execution_count": 66,
     "metadata": {},
     "output_type": "execute_result"
    }
   ],
   "source": [
    "w,b"
   ]
  },
  {
   "cell_type": "code",
   "execution_count": 67,
   "metadata": {},
   "outputs": [
    {
     "name": "stdout",
     "output_type": "stream",
     "text": [
      "0.020784943090025668\n"
     ]
    }
   ],
   "source": [
    "print(compute_cost(x_train, y_train, w, b))"
   ]
  },
  {
   "cell_type": "code",
   "execution_count": 68,
   "metadata": {},
   "outputs": [],
   "source": [
    "test_data = pd.read_csv('test_data.csv')\n",
    "x_test = test_data['area']\n",
    "y_test = test_data['price']"
   ]
  },
  {
   "cell_type": "code",
   "execution_count": 69,
   "metadata": {},
   "outputs": [
    {
     "data": {
      "text/plain": [
       "array([608347.60273973])"
      ]
     },
     "execution_count": 69,
     "metadata": {},
     "output_type": "execute_result"
    }
   ],
   "source": [
    "a = np.array(predict_price([(3150- x_mean)/x_std], w, b))\n",
    "a * y_std + y_mean"
   ]
  },
  {
   "cell_type": "code",
   "execution_count": 70,
   "metadata": {},
   "outputs": [
    {
     "data": {
      "text/plain": [
       "array([628715.75342466])"
      ]
     },
     "execution_count": 70,
     "metadata": {},
     "output_type": "execute_result"
    }
   ],
   "source": [
    "a = np.array(predict_price((np.array([3300])- x_mean)/x_std, w, b))\n",
    "a * y_std + y_mean\n"
   ]
  },
  {
   "cell_type": "code",
   "execution_count": 71,
   "metadata": {},
   "outputs": [
    {
     "data": {
      "text/plain": [
       "0.19337072143813744"
      ]
     },
     "execution_count": 71,
     "metadata": {},
     "output_type": "execute_result"
    }
   ],
   "source": [
    "compute_cost((x_test- x_mean)/x_std, (y_test- y_mean)/y_std, w, b)"
   ]
  },
  {
   "cell_type": "code",
   "execution_count": 72,
   "metadata": {},
   "outputs": [
    {
     "name": "stdout",
     "output_type": "stream",
     "text": [
      "0.9789944401374039 6.106226635439242e-17\n"
     ]
    }
   ],
   "source": [
    "print(w, b)"
   ]
  }
 ],
 "metadata": {
  "kernelspec": {
   "display_name": "Python 3",
   "language": "python",
   "name": "python3"
  },
  "language_info": {
   "codemirror_mode": {
    "name": "ipython",
    "version": 3
   },
   "file_extension": ".py",
   "mimetype": "text/x-python",
   "name": "python",
   "nbconvert_exporter": "python",
   "pygments_lexer": "ipython3",
   "version": "3.10.12"
  }
 },
 "nbformat": 4,
 "nbformat_minor": 2
}
