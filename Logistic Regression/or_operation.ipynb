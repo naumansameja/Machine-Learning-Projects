{
 "cells": [
  {
   "cell_type": "code",
   "execution_count": 23,
   "metadata": {},
   "outputs": [],
   "source": [
    "import numpy as np"
   ]
  },
  {
   "cell_type": "code",
   "execution_count": 24,
   "metadata": {},
   "outputs": [
    {
     "data": {
      "text/plain": [
       "array([[0, 0],\n",
       "       [0, 1],\n",
       "       [1, 0],\n",
       "       [1, 1]])"
      ]
     },
     "execution_count": 24,
     "metadata": {},
     "output_type": "execute_result"
    }
   ],
   "source": [
    "X = np.array([0,0,0,1,1,0,1,1])\n",
    "X = X.reshape(-1,2)\n",
    "Y = np.array([0,1,1,1])\n",
    "X"
   ]
  },
  {
   "cell_type": "code",
   "execution_count": 25,
   "metadata": {},
   "outputs": [],
   "source": [
    "X_train = np.c_[np.ones(X.shape[0]), X]"
   ]
  },
  {
   "cell_type": "code",
   "execution_count": 26,
   "metadata": {},
   "outputs": [
    {
     "data": {
      "text/plain": [
       "array([0.55719108, 0.62616829, 0.96842206])"
      ]
     },
     "execution_count": 26,
     "metadata": {},
     "output_type": "execute_result"
    }
   ],
   "source": [
    "w = np.random.rand(X_train.shape[1])\n",
    "w"
   ]
  },
  {
   "cell_type": "code",
   "execution_count": 27,
   "metadata": {},
   "outputs": [],
   "source": [
    "def sigmoid(x):\n",
    "    return 1/ (1+ np.exp(-x))"
   ]
  },
  {
   "cell_type": "code",
   "execution_count": 28,
   "metadata": {},
   "outputs": [],
   "source": [
    "def preditct(X,w):\n",
    "    X = np.array(X)\n",
    "    X = np.c_[np.ones(X.shape[0]), X]\n",
    "    return sigmoid(np.dot(X, w))"
   ]
  },
  {
   "cell_type": "code",
   "execution_count": 29,
   "metadata": {},
   "outputs": [
    {
     "data": {
      "text/plain": [
       "np.float64(0.39600150020964753)"
      ]
     },
     "execution_count": 29,
     "metadata": {},
     "output_type": "execute_result"
    }
   ],
   "source": [
    "def calculate_loss(X, y, w):\n",
    "    y_pred = sigmoid(np.dot(X, w))\n",
    "\n",
    "    loss = sum(- y * np.log(y_pred) - (1-y) * np.log(1-y_pred))\n",
    "    return loss/len(X)\n",
    "\n",
    "calculate_loss(X_train,Y,w)\n",
    "    "
   ]
  },
  {
   "cell_type": "code",
   "execution_count": 30,
   "metadata": {},
   "outputs": [
    {
     "data": {
      "text/plain": [
       "array([ 0.02963808, -0.0846534 , -0.07070033])"
      ]
     },
     "execution_count": 30,
     "metadata": {},
     "output_type": "execute_result"
    }
   ],
   "source": [
    "def calculate_gradients(X, y, w):\n",
    "    y_pred = sigmoid(np.dot(X, w))\n",
    "    error = y_pred - y\n",
    "\n",
    "    wj = np.dot(error, X)\n",
    "    return wj/len(X)\n",
    "\n",
    "calculate_gradients(X_train, Y, w)\n"
   ]
  },
  {
   "cell_type": "code",
   "execution_count": 31,
   "metadata": {},
   "outputs": [],
   "source": [
    "def gradient_descent(X, y, w, alpha, iterations):\n",
    "    \n",
    "    for i in range(iterations):\n",
    "        if i % 1000 == 0:\n",
    "            print(f'iteration {i} : loss {calculate_loss(X,y,w)}')\n",
    "        wj = calculate_gradients(X,y,w)\n",
    "        # print(wj)\n",
    "        w = w - (alpha *wj)\n",
    "        \n",
    "    return w"
   ]
  },
  {
   "cell_type": "code",
   "execution_count": 32,
   "metadata": {},
   "outputs": [
    {
     "name": "stdout",
     "output_type": "stream",
     "text": [
      "iteration 0 : loss 0.39600150020964753\n",
      "iteration 1000 : loss 0.29984195122376867\n",
      "iteration 2000 : loss 0.2395560089819249\n",
      "iteration 3000 : loss 0.19833358004203952\n",
      "iteration 4000 : loss 0.16857742291138902\n"
     ]
    },
    {
     "name": "stdout",
     "output_type": "stream",
     "text": [
      "iteration 5000 : loss 0.1461728800265118\n",
      "iteration 6000 : loss 0.1287446249975967\n",
      "iteration 7000 : loss 0.11483370998075021\n",
      "iteration 8000 : loss 0.10349607972572343\n",
      "iteration 9000 : loss 0.09409446203368556\n"
     ]
    }
   ],
   "source": [
    "alpha = 0.1\n",
    "iterations = 10000\n",
    "w = gradient_descent(X_train,Y,w, alpha, iterations)\n"
   ]
  },
  {
   "cell_type": "code",
   "execution_count": 34,
   "metadata": {},
   "outputs": [
    {
     "name": "stdout",
     "output_type": "stream",
     "text": [
      "[0.17995888]\n",
      "[0.93090155]\n",
      "[0.92914515]\n",
      "[0.99875935]\n"
     ]
    }
   ],
   "source": [
    "print(preditct([[0,0]], w))\n",
    "print(preditct([[0,1]], w))\n",
    "print(preditct([[1,0]], w))\n",
    "print(preditct([[1,1]], w))"
   ]
  }
 ],
 "metadata": {
  "kernelspec": {
   "display_name": "Python 3",
   "language": "python",
   "name": "python3"
  },
  "language_info": {
   "codemirror_mode": {
    "name": "ipython",
    "version": 3
   },
   "file_extension": ".py",
   "mimetype": "text/x-python",
   "name": "python",
   "nbconvert_exporter": "python",
   "pygments_lexer": "ipython3",
   "version": "3.12.3"
  }
 },
 "nbformat": 4,
 "nbformat_minor": 2
}
