{
 "cells": [
  {
   "cell_type": "code",
   "execution_count": 35,
   "metadata": {},
   "outputs": [],
   "source": [
    "import numpy as np"
   ]
  },
  {
   "cell_type": "code",
   "execution_count": 36,
   "metadata": {},
   "outputs": [
    {
     "data": {
      "text/plain": [
       "array([[0, 0],\n",
       "       [0, 1],\n",
       "       [1, 0],\n",
       "       [1, 1]])"
      ]
     },
     "execution_count": 36,
     "metadata": {},
     "output_type": "execute_result"
    }
   ],
   "source": [
    "X = np.array([0,0,0,1,1,0,1,1])\n",
    "X = X.reshape(-1,2)\n",
    "Y = np.array([0,1,1,0])\n",
    "X"
   ]
  },
  {
   "cell_type": "code",
   "execution_count": 38,
   "metadata": {},
   "outputs": [],
   "source": [
    "X_train = np.c_[np.ones(X.shape[0]), X]"
   ]
  },
  {
   "cell_type": "code",
   "execution_count": 39,
   "metadata": {},
   "outputs": [
    {
     "data": {
      "text/plain": [
       "array([0.35203616, 0.38865574, 0.15071707, 0.61100004])"
      ]
     },
     "execution_count": 39,
     "metadata": {},
     "output_type": "execute_result"
    }
   ],
   "source": [
    "w = np.random.rand(X_train.shape[1])\n",
    "w"
   ]
  },
  {
   "cell_type": "code",
   "execution_count": 40,
   "metadata": {},
   "outputs": [],
   "source": [
    "def sigmoid(x):\n",
    "    return 1/ (1+ np.exp(-x))"
   ]
  },
  {
   "cell_type": "code",
   "execution_count": 41,
   "metadata": {},
   "outputs": [],
   "source": [
    "def preditct(X,w):\n",
    "    \n",
    "    X = np.array(X)\n",
    "    X = np.c_[np.ones(X.shape[0]), X]\n",
    "    return sigmoid(np.dot(X, w))"
   ]
  },
  {
   "cell_type": "code",
   "execution_count": 42,
   "metadata": {},
   "outputs": [
    {
     "data": {
      "text/plain": [
       "np.float64(0.8627163663350619)"
      ]
     },
     "execution_count": 42,
     "metadata": {},
     "output_type": "execute_result"
    }
   ],
   "source": [
    "def calculate_loss(X, y, w):\n",
    "    y_pred = sigmoid(np.dot(X, w))\n",
    "\n",
    "    loss = sum(- y * np.log(y_pred) - (1-y) * np.log(1-y_pred))\n",
    "    return loss/len(X)\n",
    "\n",
    "calculate_loss(X_train,Y,w)\n",
    "    "
   ]
  },
  {
   "cell_type": "code",
   "execution_count": 43,
   "metadata": {},
   "outputs": [
    {
     "data": {
      "text/plain": [
       "array([0.1763245 , 0.12377016, 0.11025991, 0.20448337])"
      ]
     },
     "execution_count": 43,
     "metadata": {},
     "output_type": "execute_result"
    }
   ],
   "source": [
    "def calculate_gradients(X, y, w):\n",
    "    y_pred = sigmoid(np.dot(X, w))\n",
    "    error = y_pred - y\n",
    "\n",
    "    wj = np.dot(error, X)\n",
    "    return wj/len(X)\n",
    "\n",
    "calculate_gradients(X_train, Y, w)\n"
   ]
  },
  {
   "cell_type": "code",
   "execution_count": 44,
   "metadata": {},
   "outputs": [],
   "source": [
    "def gradient_descent(X, y, w, alpha, iterations):\n",
    "    \n",
    "    for i in range(iterations):\n",
    "        if i % 1000 == 0:\n",
    "            print(f'iteration {i} : loss {calculate_loss(X,y,w)}')\n",
    "        wj = calculate_gradients(X,y,w)\n",
    "        # print(wj)\n",
    "        w = w - (alpha *wj)\n",
    "        \n",
    "    return w"
   ]
  },
  {
   "cell_type": "code",
   "execution_count": 45,
   "metadata": {},
   "outputs": [
    {
     "name": "stdout",
     "output_type": "stream",
     "text": [
      "iteration 0 : loss 0.8627163663350619\n",
      "iteration 1000 : loss 0.6131150490298304\n",
      "iteration 2000 : loss 0.529336680708871\n",
      "iteration 3000 : loss 0.46765184855437714\n"
     ]
    },
    {
     "name": "stdout",
     "output_type": "stream",
     "text": [
      "iteration 4000 : loss 0.41803151485505274\n",
      "iteration 5000 : loss 0.37665957932331545\n",
      "iteration 6000 : loss 0.3416039363398121\n",
      "iteration 7000 : loss 0.311617978060414\n",
      "iteration 8000 : loss 0.2857814099975546\n",
      "iteration 9000 : loss 0.26337477639739554\n"
     ]
    }
   ],
   "source": [
    "alpha = 0.01\n",
    "iterations = 10000\n",
    "w = gradient_descent(X_train,Y,w, alpha, iterations)\n"
   ]
  },
  {
   "cell_type": "code",
   "execution_count": 49,
   "metadata": {},
   "outputs": [
    {
     "name": "stdout",
     "output_type": "stream",
     "text": [
      "[0.31299057]\n"
     ]
    }
   ],
   "source": [
    "print(preditct([[0,0]], w))"
   ]
  },
  {
   "cell_type": "code",
   "execution_count": 47,
   "metadata": {},
   "outputs": [
    {
     "data": {
      "text/plain": [
       "array([2])"
      ]
     },
     "execution_count": 47,
     "metadata": {},
     "output_type": "execute_result"
    }
   ],
   "source": [
    "\n",
    "x = np.array([[1,2]])\n",
    "x[:,1] * x[:,0]"
   ]
  }
 ],
 "metadata": {
  "kernelspec": {
   "display_name": "Python 3",
   "language": "python",
   "name": "python3"
  },
  "language_info": {
   "codemirror_mode": {
    "name": "ipython",
    "version": 3
   },
   "file_extension": ".py",
   "mimetype": "text/x-python",
   "name": "python",
   "nbconvert_exporter": "python",
   "pygments_lexer": "ipython3",
   "version": "3.12.3"
  }
 },
 "nbformat": 4,
 "nbformat_minor": 2
}
